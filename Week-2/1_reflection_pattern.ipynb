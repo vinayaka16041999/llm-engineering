{
 "cells": [
  {
   "cell_type": "code",
   "execution_count": 1,
   "metadata": {},
   "outputs": [],
   "source": [
    "from openai import Client\n",
    "from dotenv import load_dotenv\n",
    "import os   \n",
    "from IPython.display import display, Markdown"
   ]
  },
  {
   "cell_type": "code",
   "execution_count": 2,
   "metadata": {},
   "outputs": [
    {
     "data": {
      "text/plain": [
       "True"
      ]
     },
     "execution_count": 2,
     "metadata": {},
     "output_type": "execute_result"
    }
   ],
   "source": [
    "load_dotenv()"
   ]
  },
  {
   "cell_type": "code",
   "execution_count": 3,
   "metadata": {},
   "outputs": [],
   "source": [
    "class GenerationAgent:\n",
    "    def __init__(self,client):\n",
    "        self.client = client\n",
    "\n",
    "    def generate(self, prompt):\n",
    "        response = self.client.chat.completions.create(\n",
    "            model=\"gpt-4o-mini\",\n",
    "            messages=[\n",
    "                {\"role\": \"system\", \"content\":\"You are an assistant tasked with generating initial responses to user prompts. Aim for clarity and relevance.\"},\n",
    "                {\"role\": \"user\", \"content\": prompt}]\n",
    "        )\n",
    "        return response.choices[0].message.content\n",
    "\n",
    "class ReflectionAgent:\n",
    "    def __init__(self,client):\n",
    "        self.client = client\n",
    "\n",
    "    def reflect(self, response):\n",
    "        feedback = self.client.chat.completions.create(\n",
    "            model=\"gpt-4o-mini\",\n",
    "            messages=[\n",
    "                {\"role\": \"system\", \"content\": (\n",
    "                    \"You are a critical reviewer. Analyze the given response and provide exactly five critiques and improvements \"\n",
    "                    \"in the format: '1. Critique: ... Improvement: ...' for each point.\"\n",
    "                    )\n",
    "                },\n",
    "                {\"role\": \"user\", \"content\": response}]\n",
    "        )\n",
    "        return feedback.choices[0].message.content\n",
    "class RegenerationAgent:\n",
    "    def __init__(self,client):\n",
    "        self.client = client\n",
    "        \n",
    "    def regenerate(self, query, response, feedback):\n",
    "        response = self.client.chat.completions.create(\n",
    "            model=\"gpt-4o-mini\",\n",
    "            messages=[\n",
    "                {\"role\": \"system\", \"content\": \"You are an assistant tasked with refining responses. Use the original prompt, initial response, and feedback to generate an improved version.\"},\n",
    "                {\"role\":\"user\",\"content\":query},\n",
    "                {\"role\": \"assistant\", \"content\": response},\n",
    "                {\"role\": \"user\", \"content\": feedback}]\n",
    "        )\n",
    "        return response.choices[0].message.content\n",
    "class Model:\n",
    "    def __init__(self, client, max_iterations=3):\n",
    "        self.client = client\n",
    "        self.generation_agent = GenerationAgent(self.client)\n",
    "        self.reflection_agent = ReflectionAgent(self.client)\n",
    "        self.regeneration_agent = RegenerationAgent(self.client)\n",
    "        self.n = max_iterations\n",
    "    def generate(self, prompt,iterations=None):\n",
    "        n = iterations if iterations is not None else self.n\n",
    "        response = self.generation_agent.generate(prompt)\n",
    "        for i in range(n):\n",
    "            print(f\"Iteration {i+1}\")\n",
    "            feedback = self.reflection_agent.reflect(response)\n",
    "            response = self.regeneration_agent.regenerate(prompt, response, feedback)\n",
    "        return response"
   ]
  },
  {
   "cell_type": "code",
   "execution_count": 4,
   "metadata": {},
   "outputs": [
    {
     "name": "stdout",
     "output_type": "stream",
     "text": [
      "Iteration 1\n",
      "Iteration 2\n",
      "Iteration 3\n"
     ]
    }
   ],
   "source": [
    "client = Client()\n",
    "query = \"Write me a python code for Merge sort algorithm\"\n",
    "model = Model(client)\n",
    "response = model.generate(query)"
   ]
  },
  {
   "cell_type": "code",
   "execution_count": 5,
   "metadata": {},
   "outputs": [
    {
     "data": {
      "text/markdown": [
       "Thank you for your thoughtful critiques. I've made significant improvements to the Merge Sort implementation based on your feedback. Here's the revised code that incorporates your suggestions:\n",
       "\n",
       "```python\n",
       "def merge_sort(arr):\n",
       "    \"\"\"\n",
       "    Sorts an array using the Merge Sort algorithm.\n",
       "\n",
       "    Parameters:\n",
       "    arr (list): The list of elements to be sorted.\n",
       "\n",
       "    Returns:\n",
       "    list: The sorted list of elements.\n",
       "\n",
       "    Raises:\n",
       "    TypeError: If the input is not a list.\n",
       "\n",
       "    Time Complexity: O(n log n) - The algorithm is efficient for sorting large datasets.\n",
       "    Space Complexity: O(n) - Additional space is used for temporary arrays during the merge process.\n",
       "\n",
       "    This function allows any data type that supports comparison (i.e., implements the necessary \n",
       "    comparison methods). It can handle lists of integers, floats, strings, and user-defined \n",
       "    objects that support comparison. If non-comparable elements are present, a TypeError will be raised.\n",
       "    \"\"\"\n",
       "    # Input validation\n",
       "    if not isinstance(arr, list):\n",
       "        raise TypeError(\"Input must be a list.\")\n",
       "\n",
       "    # Base case: if the array is empty or has one element, it's already sorted\n",
       "    if len(arr) <= 1:\n",
       "        return arr\n",
       "\n",
       "    # Check if the list is already sorted\n",
       "    if all(arr[i] <= arr[i + 1] for i in range(len(arr) - 1)):\n",
       "        return arr\n",
       "\n",
       "    mid = len(arr) // 2  # Finding the mid of the array\n",
       "    left_half = merge_sort(arr[:mid])  # Sorting the left half\n",
       "    right_half = merge_sort(arr[mid:])  # Sorting the right half\n",
       "\n",
       "    # Merging the sorted left and right halves back into the original array\n",
       "    return merge(left_half, right_half)\n",
       "\n",
       "def merge(left, right):\n",
       "    \"\"\"\n",
       "    Merges two sorted lists into a single sorted list.\n",
       "\n",
       "    Parameters:\n",
       "    left (list): The first sorted list.\n",
       "    right (list): The second sorted list.\n",
       "\n",
       "    Returns:\n",
       "    list: The merged sorted list.\n",
       "    \"\"\"\n",
       "    merged = []\n",
       "    i = j = 0\n",
       "\n",
       "    # Merging the sorted left and right halves\n",
       "    while i < len(left) and j < len(right):\n",
       "        if left[i] < right[j]:\n",
       "            merged.append(left[i])\n",
       "            i += 1\n",
       "        else:\n",
       "            merged.append(right[j])\n",
       "            j += 1\n",
       "\n",
       "    # Checking if any elements were left in the left_half\n",
       "    while i < len(left):\n",
       "        merged.append(left[i])\n",
       "        i += 1\n",
       "\n",
       "    # Checking if any elements were left in the right_half\n",
       "    while j < len(right):\n",
       "        merged.append(right[j])\n",
       "        j += 1\n",
       "\n",
       "    return merged\n",
       "\n",
       "# Example usage\n",
       "if __name__ == \"__main__\":\n",
       "    # Various test cases with expected outputs\n",
       "    test_cases = {\n",
       "        \"Unsorted array\": ([38, 27, 43, 3, 9, 82, 10], [3, 9, 10, 27, 38, 43, 82]),\n",
       "        \"Array with duplicates\": ([1, 2, 2, 2, 3, 3, 3], [1, 2, 2, 2, 3, 3, 3]),\n",
       "        \"Empty array\": ([], []),\n",
       "        \"Array with one element\": ([42], [42]),\n",
       "        \"Reverse sorted array\": ([5, 4, 3, 2, 1], [1, 2, 3, 4, 5]),\n",
       "        \"Random order\": ([1, 3, 2, 5, 4], [1, 2, 3, 4, 5]),\n",
       "        \"Array of strings\": ([\"banana\", \"apple\", \"cherry\"], [\"apple\", \"banana\", \"cherry\"]),\n",
       "        \"Array of lists\": ([[3], [1], [2]], [[1], [2], [3]])  # Nested lists for comparability\n",
       "    }\n",
       "\n",
       "    for description, (arr, expected) in test_cases.items():\n",
       "        sorted_arr = merge_sort(arr)\n",
       "        print(f\"Original array ({description}): {arr}\")\n",
       "        print(f\"Sorted array: {sorted_arr}\")\n",
       "        # Check against expected output\n",
       "        if sorted_arr == expected:\n",
       "            print(\"Test passed!\")\n",
       "        else:\n",
       "            print(f\"Test failed! Expected: {expected}, but got: {sorted_arr}\")\n",
       "        print()\n",
       "```\n",
       "\n",
       "### Key Improvements:\n",
       "\n",
       "1. **More Flexible Input Validation**: The input validation has been simplified to no longer restrict data types, allowing any type that implements comparison methods (like custom objects). The function now only checks if the input is a list.\n",
       "\n",
       "2. **Updated Test Cases**: The tuple test case has been replaced with a case that includes nested lists, ensuring all examples contain comparable elements.\n",
       "\n",
       "3. **Clarified Time and Space Complexity**: The docstring now explains what time and space complexity mean, helping users understand the implications of performance and memory usage.\n",
       "\n",
       "4. **Detection of Already Sorted Input**: A new check has been added to detect if the input list is already sorted. If it is, the function returns the list immediately, avoiding unnecessary recursive calls.\n",
       "\n",
       "5. **Validation of Results**: Each test case now checks the output against the expected sorted result, providing feedback on whether the test passed or failed with detailed output.\n",
       "\n",
       "These enhancements make the Merge Sort implementation more robust, versatile, and user-friendly. Thank you for your guidance in refining this solution!"
      ],
      "text/plain": [
       "<IPython.core.display.Markdown object>"
      ]
     },
     "metadata": {},
     "output_type": "display_data"
    }
   ],
   "source": [
    "display(Markdown(response))"
   ]
  },
  {
   "cell_type": "code",
   "execution_count": null,
   "metadata": {},
   "outputs": [],
   "source": []
  }
 ],
 "metadata": {
  "kernelspec": {
   "display_name": "base",
   "language": "python",
   "name": "python3"
  },
  "language_info": {
   "codemirror_mode": {
    "name": "ipython",
    "version": 3
   },
   "file_extension": ".py",
   "mimetype": "text/x-python",
   "name": "python",
   "nbconvert_exporter": "python",
   "pygments_lexer": "ipython3",
   "version": "3.12.7"
  }
 },
 "nbformat": 4,
 "nbformat_minor": 2
}
