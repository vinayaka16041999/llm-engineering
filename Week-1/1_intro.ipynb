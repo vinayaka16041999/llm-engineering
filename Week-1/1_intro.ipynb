{
 "cells": [
  {
   "cell_type": "code",
   "execution_count": 4,
   "metadata": {},
   "outputs": [
    {
     "data": {
      "text/plain": [
       "True"
      ]
     },
     "execution_count": 4,
     "metadata": {},
     "output_type": "execute_result"
    }
   ],
   "source": [
    "from dotenv import load_dotenv\n",
    "import os \n",
    "from langchain.llms import OpenAI\n",
    "load_dotenv()"
   ]
  },
  {
   "cell_type": "markdown",
   "metadata": {},
   "source": [
    "### Simple LLM"
   ]
  },
  {
   "cell_type": "code",
   "execution_count": 5,
   "metadata": {},
   "outputs": [],
   "source": [
    "def generate_pet_names(pet):\n",
    "    llm = OpenAI(temperature=0.8)\n",
    "    name = llm(f\" I have a {pet} pet and I want a cool name for it. Suggest me 5 names for my pet\")\n",
    "    return name"
   ]
  },
  {
   "cell_type": "code",
   "execution_count": 6,
   "metadata": {},
   "outputs": [
    {
     "name": "stderr",
     "output_type": "stream",
     "text": [
      "C:\\Users\\Vinayaka Katilu\\AppData\\Local\\Temp\\ipykernel_18696\\3638661708.py:2: LangChainDeprecationWarning: The class `OpenAI` was deprecated in LangChain 0.0.10 and will be removed in 1.0. An updated version of the class exists in the :class:`~langchain-openai package and should be used instead. To use it run `pip install -U :class:`~langchain-openai` and import as `from :class:`~langchain_openai import OpenAI``.\n",
      "  llm = OpenAI(temperature=0.8)\n",
      "C:\\Users\\Vinayaka Katilu\\AppData\\Local\\Temp\\ipykernel_18696\\3638661708.py:3: LangChainDeprecationWarning: The method `BaseLLM.__call__` was deprecated in langchain-core 0.1.7 and will be removed in 1.0. Use :meth:`~invoke` instead.\n",
      "  name = llm(f\" I have a {pet} pet and I want a cool name for it. Suggest me 5 names for my pet\")\n"
     ]
    },
    {
     "name": "stdout",
     "output_type": "stream",
     "text": [
      "\n",
      "\n",
      "1. Maverick\n",
      "2. Luna\n",
      "3. Finn\n",
      "4. Coco\n",
      "5. Zeus\n"
     ]
    }
   ],
   "source": [
    "print(generate_pet_names(\"dog\"))"
   ]
  },
  {
   "cell_type": "markdown",
   "metadata": {},
   "source": [
    "### Prompt Template"
   ]
  },
  {
   "cell_type": "code",
   "execution_count": 8,
   "metadata": {},
   "outputs": [],
   "source": [
    "from langchain.prompts import PromptTemplate\n",
    "from langchain.chains import LLMChain"
   ]
  },
  {
   "cell_type": "code",
   "execution_count": 13,
   "metadata": {},
   "outputs": [],
   "source": [
    "def generate_pet_names(pet_type, pet_color):\n",
    "    \n",
    "    prompt_template = PromptTemplate(input_variables=['pet_type', 'pet_color'], template=\" I have a {pet_type} pet of color {pet_color} and I want a cool name for it. Suggest me 5 names for my pet\")\n",
    "    llm = OpenAI(temperature=0.8)\n",
    "    chain = LLMChain(llm=llm, prompt=prompt_template)\n",
    "    response = chain({'pet_type': pet_type, 'pet_color': pet_color})\n",
    "    return response"
   ]
  },
  {
   "cell_type": "code",
   "execution_count": 14,
   "metadata": {},
   "outputs": [
    {
     "name": "stdout",
     "output_type": "stream",
     "text": [
      "{'pet_type': 'cat', 'pet_color': 'orange', 'text': '\\n1. Rusty\\n2. Ginger\\n3. Blaze\\n4. Mango\\n5. Simba'}\n"
     ]
    }
   ],
   "source": [
    "print(generate_pet_names(\"cat\",\"orange\"))"
   ]
  },
  {
   "cell_type": "markdown",
   "metadata": {},
   "source": [
    "### Agents"
   ]
  },
  {
   "cell_type": "code",
   "execution_count": 19,
   "metadata": {},
   "outputs": [],
   "source": [
    "from langchain.agents import load_tools, initialize_agent, AgentType"
   ]
  },
  {
   "cell_type": "code",
   "execution_count": 23,
   "metadata": {},
   "outputs": [],
   "source": [
    "def create_agent():\n",
    "    llm = OpenAI(temperature=0.8)\n",
    "    tools = load_tools([\"wikipedia\", \"llm-math\"], llm=llm)\n",
    "\n",
    "    agent = initialize_agent(tools, llm, agent=AgentType.ZERO_SHOT_REACT_DESCRIPTION,verbose=True)\n",
    "\n",
    "    results = agent.run(\"What is the average age of a dog?\")\n",
    "    \n",
    "    print(results)"
   ]
  },
  {
   "cell_type": "code",
   "execution_count": 25,
   "metadata": {},
   "outputs": [
    {
     "name": "stdout",
     "output_type": "stream",
     "text": [
      "\n",
      "\n",
      "\u001b[1m> Entering new AgentExecutor chain...\u001b[0m\n",
      "\u001b[32;1m\u001b[1;3m I should use Wikipedia to find the average life expectancy of a dog\n",
      "Action: wikipedia\n",
      "Action Input: \"average age of a dog\"\u001b[0m\n",
      "Observation: \u001b[36;1m\u001b[1;3mPage: Aging in dogs\n",
      "Summary: Aging in dogs varies from breed to breed, and affects the dog's health and physical ability. As with humans, advanced years often bring changes in a dog's ability to hear, see, and move about easily. Skin condition, appetite, and energy levels often degrade with geriatric age. Medical conditions such as cancer, kidney failure, arthritis, dementia, and joint conditions, and other signs of old age may appear.\n",
      "The aging profile of dogs varies according to their adult size (often determined by their breed): smaller breeds have an average lifespan of 10–15 years, with some even exceeding 18 years in age; medium breeds typically live for 10 to 13 years; and giant dog breeds have the lowest minimum lifespan, with an overall average of 8 to 13 years. The latter reach maturity at a slightly older age than smaller breeds, with giant breeds reaching adulthood at around two years old compared to the norm of around 13–15 months for other breeds. The accelerated rate of growth required by the drastic change in size exhibited in giant breeds is speculated by scientists at the American Kennel Club to lead to a higher risk of abnormal cell growth and cancer.\n",
      "\n",
      "Page: Alpha Dog\n",
      "Summary: Alpha Dog  is a 2006 American crime drama film written and directed by Nick Cassavetes. It is based on the true story of the kidnapping and murder of Nicholas Markowitz in 2000. The film features an ensemble cast that includes Ben Foster, Shawn Hatosy, Emile Hirsch, Christopher Marquette, Sharon Stone, Justin Timberlake, Anton Yelchin, and Bruce Willis.\n",
      "Alpha Dog had its world premiere at the 2006 Sundance Film Festival on January 27, 2006, and was released in the United States on January 12, 2007, by Universal Pictures. The film received mixed reviews and was a minor box office success, grossing $32 million worldwide on a budget of $9.5 million.\n",
      "\n",
      "\n",
      "\n",
      "Page: Dog\n",
      "Summary: The dog (Canis familiaris or Canis lupus familiaris) is a domesticated descendant of the gray wolf. Also called the domestic dog, it was selectively bred from an extinct population of wolves during the Late Pleistocene by hunter-gatherers. The dog was the first species to be domesticated by humans, over 14,000 years ago and before the development of agriculture. Due to their long association with humans, dogs have gained the ability to thrive on a starch-rich diet that would be inadequate for other canids.\n",
      "Dogs have been bred for desired behaviors, sensory capabilities, and physical attributes. Dog breeds vary widely in shape, size, and color. They have the same number of bones (with the exception of the tail), powerful jaws that house around 42 teeth, and well-developed senses of smell, hearing, and sight. Compared to humans, dogs possess a superior sense of smell and hearing, but inferior visual acuity. Dogs perform many roles for humans, such as hunting, herding, pulling loads, protection, companionship, therapy, aiding disabled people, and assisting police and the military.\n",
      "Communication in dogs includes eye gaze, facial expression, vocalization, body posture (including movements of bodies and limbs), and gustatory communication (scents, pheromones, and taste). They mark their territories by urinating on them, which is more likely when entering a new environment. Over the millennia, dogs have uniquely adapted to human behavior; this adaptation includes being able to understand and communicate with humans. As such, the human–canine bond has been a topic of frequent study, and dogs' influence on human society has given them the sobriquet of \"man's best friend\".\n",
      "The global dog population is estimated at 700 million to 1 billion, distributed around the world. The dog is the most popular pet in the United States, present in 34–40% of households. Developed countries make up approximately 20% of the global dog population, while around 75% of dogs are estimated to be from developing countries, mainly in the form of feral and community dogs.\u001b[0m\n",
      "Thought:\u001b[32;1m\u001b[1;3m I should use the average lifespan information from the Aging in dogs page and the information on dog populations to calculate the average age of a dog\n",
      "Action: Calculator\n",
      "Action Input: Average lifespan of a dog in years: 12\n",
      "Average number of dogs in a household: 1\u001b[0m\n",
      "Observation: \u001b[33;1m\u001b[1;3mAnswer: 12\u001b[0m\n",
      "Thought:\u001b[32;1m\u001b[1;3m I should use the information on the different aging profiles of dogs on the Aging in dogs page to refine my answer\n",
      "Action: Calculator\n",
      "Action Input: Average lifespan of a small breed dog in years: 13 Average lifespan of a medium breed dog in years: 12\n",
      "Average lifespan of a large breed dog in years: 8\n",
      "Average number of dogs in a household: 1\u001b[0m\n",
      "Observation: \u001b[33;1m\u001b[1;3mAnswer: 11.0\u001b[0m\n",
      "Thought:\u001b[32;1m\u001b[1;3m I now know the final answer\n",
      "Final Answer: The average age of a dog is approximately 11 years.\u001b[0m\n",
      "\n",
      "\u001b[1m> Finished chain.\u001b[0m\n",
      "The average age of a dog is approximately 11 years.\n"
     ]
    }
   ],
   "source": [
    "create_agent()"
   ]
  },
  {
   "cell_type": "code",
   "execution_count": null,
   "metadata": {},
   "outputs": [],
   "source": []
  }
 ],
 "metadata": {
  "kernelspec": {
   "display_name": "base",
   "language": "python",
   "name": "python3"
  },
  "language_info": {
   "codemirror_mode": {
    "name": "ipython",
    "version": 3
   },
   "file_extension": ".py",
   "mimetype": "text/x-python",
   "name": "python",
   "nbconvert_exporter": "python",
   "pygments_lexer": "ipython3",
   "version": "3.12.7"
  }
 },
 "nbformat": 4,
 "nbformat_minor": 2
}
